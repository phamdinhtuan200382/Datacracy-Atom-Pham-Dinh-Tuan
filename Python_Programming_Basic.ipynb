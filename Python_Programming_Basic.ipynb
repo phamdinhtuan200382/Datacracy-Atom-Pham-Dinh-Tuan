{
  "nbformat": 4,
  "nbformat_minor": 0,
  "metadata": {
    "colab": {
      "name": "Python_Programming_Basic.ipynb",
      "provenance": [],
      "authorship_tag": "ABX9TyPQ4wJOtCjU1VF4SyEfLP13",
      "include_colab_link": true
    },
    "kernelspec": {
      "name": "python3",
      "display_name": "Python 3"
    },
    "language_info": {
      "name": "python"
    }
  },
  "cells": [
    {
      "cell_type": "markdown",
      "metadata": {
        "id": "view-in-github",
        "colab_type": "text"
      },
      "source": [
        "<a href=\"https://colab.research.google.com/github/phamdinhtuan200382/Datacracy-Atom-Pham-Dinh-Tuan/blob/main/Python_Programming_Basic.ipynb\" target=\"_parent\"><img src=\"https://colab.research.google.com/assets/colab-badge.svg\" alt=\"Open In Colab\"/></a>"
      ]
    },
    {
      "cell_type": "markdown",
      "metadata": {
        "id": "nhPWQip-BFej"
      },
      "source": [
        "**Python Basic - Your First Program**"
      ]
    },
    {
      "cell_type": "code",
      "metadata": {
        "id": "QgmzTzkqPZOP"
      },
      "source": [
        "print('What is your name?') # ask for their name\n",
        "myName = input()\n",
        "print('It is good to meet you, ' + myName)\n",
        "print('The length of your name is:')\n",
        "print(len(myName))\n",
        "print('What is your age?') # ask for their age\n",
        "myAge = input()\n",
        "print('You will be ' + str(int(myAge) + 1) + ' in a year.')"
      ],
      "execution_count": null,
      "outputs": []
    },
    {
      "cell_type": "markdown",
      "metadata": {
        "id": "26XP78qXBCot"
      },
      "source": [
        "**Flow Control - A Short Program: Rock, Paper**"
      ]
    },
    {
      "cell_type": "code",
      "metadata": {
        "id": "W1xewrkZBNxJ"
      },
      "source": [
        "import random, sys\n",
        "print('ROCK, PAPER, SCISSORS')\n",
        "# These variables keep track of the number of wins, losses, and ties.\n",
        "wins = 0\n",
        "losses = 0\n",
        "ties = 0\n",
        "while True: # The main game loop.\n",
        "  print('%s Wins, %s Losses, %s Ties' % (wins, losses, ties))\n",
        "  while True: # The player input loop.\n",
        "    print('Enter your move: (r)ock (p)aper (s)cissors or (q)uit')\n",
        "    playerMove = input()\n",
        "    if playerMove == 'q':\n",
        "      sys.exit() # Quit the program.\n",
        "    if playerMove == 'r' or playerMove == 'p' or playerMove == 's':\n",
        "      break # Break out of the player input loop.\n",
        "    print('Type one of r, p, s, or q.')\n",
        "# Display what the player chose:\n",
        "  if playerMove == 'r':\n",
        "    print('ROCK versus...')\n",
        "  elif playerMove == 'p':\n",
        "    print('PAPER versus...')\n",
        "  elif playerMove == 's':\n",
        "    print('SCISSORS versus...')\n",
        "# Display what the computer chose:\n",
        "  randomNumber = random.randint(1, 3)\n",
        "  if randomNumber == 1:\n",
        "    computerMove = 'r'\n",
        "    print('ROCK')\n",
        "  elif randomNumber == 2:\n",
        "    computerMove = 'p'\n",
        "    print('PAPER')\n",
        "  elif randomNumber == 3:\n",
        "    computerMove = 's'\n",
        "    print('SCISSORS')\n",
        "# Display and record the win/loss/tie:\n",
        "  if playerMove == computerMove:\n",
        "    print('It is a tie!')\n",
        "    ties = ties + 1\n",
        "  elif playerMove == 'r' and computerMove == 's':\n",
        "    print('You win!')\n",
        "    wins = wins + 1\n",
        "  elif playerMove == 'p' and computerMove == 'r':\n",
        "    print('You win!')\n",
        "    wins = wins + 1\n",
        "  elif playerMove == 's' and computerMove == 'p':\n",
        "    print('You win!')\n",
        "    wins = wins + 1\n",
        "  elif playerMove == 'r' and computerMove == 'p':\n",
        "    print('You lose!')\n",
        "    losses = losses + 1"
      ],
      "execution_count": null,
      "outputs": []
    },
    {
      "cell_type": "markdown",
      "metadata": {
        "id": "MuH_0t3LDmW3"
      },
      "source": [
        "**Functions - A Short Program**"
      ]
    },
    {
      "cell_type": "code",
      "metadata": {
        "id": "8IQMXPP3D9ig"
      },
      "source": [
        "import time, sys\n",
        "indent = 0 # How many spaces to indent.\n",
        "indentIncreasing = True # Whether the indentation is increasing or not.\n",
        "\n",
        "try:\n",
        " while True: # The main program loop.\n",
        "  print(' ' * indent, end='')\n",
        "  print('********')\n",
        "  time.sleep(0.1) # Pause for 1/10 of a second.\n",
        "  if indentIncreasing:\n",
        "    # Increase the number of spaces:\n",
        "    indent = indent + 1\n",
        "    if indent == 20:\n",
        "      # Change direction:\n",
        "      indentIncreasing = False\n",
        "\n",
        "  else:\n",
        "      # Decrease the number of spaces:    \n",
        "      indent = indent - 1\n",
        "      if indent == 0:\n",
        "        # Change direction:\n",
        "        indentIncreasing = True\n",
        "except KeyboardInterrupt:\n",
        "  sys.exit()\n"
      ],
      "execution_count": null,
      "outputs": []
    },
    {
      "cell_type": "markdown",
      "metadata": {
        "id": "3gmT8Zm7FRcr"
      },
      "source": [
        "**Lists - A Short Program: Conway’s Game of Life**"
      ]
    },
    {
      "cell_type": "code",
      "metadata": {
        "id": "yBYq0qWCFVj6"
      },
      "source": [
        "# Conway's Game of Life\n",
        "import random, time, copy\n",
        "WIDTH = 60\n",
        "HEIGHT = 20\n",
        "# Create a list of list for the cells:\n",
        "nextCells = []\n",
        "for x in range(WIDTH):\n",
        "  column = [] # Create a new column.\n",
        "  for y in range(HEIGHT):\n",
        "    if random.randint(0, 1) == 0:\n",
        "      column.append('#') # Add a living cell.\n",
        "    else:\n",
        "      column.append(' ') # Add a dead cell.\n",
        "  nextCells.append(column) # nextCells is a list of column lists.\n",
        "while True: # Main program loop.\n",
        "  print('\\n\\n\\n\\n\\n') # Separate each step with newlines.\n",
        "  currentCells = copy.deepcopy(nextCells)\n",
        "  # Print currentCells on the screen:\n",
        "  for y in range(HEIGHT):\n",
        "    for x in range(WIDTH):\n",
        "      print(currentCells[x][y], end='') # Print the # or space.\n",
        "    print() # Print a newline at the end of the row.\n",
        "# Calculate the next step's cells based on current step's cells:\n",
        "  for x in range(WIDTH):\n",
        "    for y in range(HEIGHT):\n",
        "      # Get neighboring coordinates:\n",
        "      # `% WIDTH` ensures leftCoord is always between 0 and WIDTH - 1\n",
        "      leftCoord = (x - 1) % WIDTH\n",
        "      rightCoord = (x + 1) % WIDTH\n",
        "      aboveCoord = (y - 1) % HEIGHT\n",
        "      belowCoord = (y + 1) % HEIGHT\n",
        "      # Count number of living neighbors:\n",
        "      numNeighbors = 0\n",
        "      if currentCells[leftCoord][aboveCoord] == '#':\n",
        "        numNeighbors += 1 # Top-left neighbor is alive.\n",
        "      if currentCells[x][aboveCoord] == '#':\n",
        "        numNeighbors += 1 # Top neighbor is alive.\n",
        "      if currentCells[rightCoord][aboveCoord] == '#':\n",
        "        numNeighbors += 1 # Top-right neighbor is alive.\n",
        "      if currentCells[leftCoord][y] == '#':\n",
        "        numNeighbors += 1 # Left neighbor is alive.\n",
        "      if currentCells[rightCoord][y] == '#':\n",
        "        numNeighbors += 1 # Right neighbor is alive.\n",
        "      if currentCells[leftCoord][belowCoord] == '#':\n",
        "        numNeighbors += 1 # Bottom-left neighbor is alive.\n",
        "      if currentCells[x][belowCoord] == '#':\n",
        "        numNeighbors += 1 # Bottom neighbor is alive.\n",
        "      if currentCells[rightCoord][belowCoord] == '#':\n",
        "        numNeighbors += 1 # Bottom-right neighbor is alive.\n",
        "      # Set cell based on Conway's Game of Life rules:\n",
        "      if currentCells[x][y] == '#' and (numNeighbors == 2 or numNeighbors == 3):\n",
        "        # Living cells with 2 or 3 neighbors stay alive:\n",
        "        nextCells[x][y] = '#'\n",
        "      elif currentCells[x][y] == ' ' and numNeighbors == 3:\n",
        "        # Dead cells with 3 neighbors become alive:\n",
        "        nextCells[x][y] = '#'\n",
        "      else:\n",
        "        # Everything else dies or stays dead:\n",
        "        nextCells[x][y] = ' '\n",
        "time.sleep(1) # Add a 1-second pause to reduce flickering"
      ],
      "execution_count": null,
      "outputs": []
    },
    {
      "cell_type": "markdown",
      "metadata": {
        "id": "qYfUA7cxIUCq"
      },
      "source": [
        "**Dictionaries & Structuring Data - Tic-Tac-Toe Board**"
      ]
    },
    {
      "cell_type": "code",
      "metadata": {
        "id": "YJgzgc3XIZgB"
      },
      "source": [
        "theBoard = {'top-L': ' ', 'top-M': ' ', 'top-R': ' ', 'mid-L': ' ', 'mid-M': ' ', 'mid-R': ' ', 'low-L': ' ', 'low-M': ' ', 'low-R': ' '}\n",
        "\n",
        "def printBoard(board):\n",
        "    print(board['top-L'] + '|' + board['top-M'] + '|' + board['top-R'])\n",
        "    print('-+-+-')\n",
        "    print(board['mid-L'] + '|' + board['mid-M'] + '|' + board['mid-R'])\n",
        "    print('-+-+-')\n",
        "    print(board['low-L'] + '|' + board['low-M'] + '|' + board['low-R'])\n",
        "turn = 'X'\n",
        "for i in range(9):\n",
        "    printBoard(theBoard)\n",
        "    print('Turn for ' + turn + '. Move on which space?')\n",
        "    move = input()\n",
        "    theBoard[move] = turn\n",
        "    if turn == 'X':\n",
        "        turn = 'O'\n",
        "    else:\n",
        "        turn = 'X'\n",
        "printBoard(theBoard)"
      ],
      "execution_count": null,
      "outputs": []
    }
  ]
}